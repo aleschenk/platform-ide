{
 "cells": [
  {
   "cell_type": "code",
   "execution_count": 1,
   "id": "47c7d508",
   "metadata": {
    "dotnet_interactive": {
     "language": "csharp"
    },
    "polyglot_notebook": {
     "kernelName": "csharp"
    },
    "vscode": {
     "languageId": "polyglot-notebook"
    }
   },
   "outputs": [
    {
     "data": {
      "text/plain": [
       "\u001b[36ma\u001b[39m: \u001b[32mInt\u001b[39m = \u001b[32m7\u001b[39m"
      ]
     },
     "execution_count": 1,
     "metadata": {},
     "output_type": "execute_result"
    }
   ],
   "source": [
    "var a = 1 + 6"
   ]
  },
  {
   "cell_type": "code",
   "execution_count": null,
   "id": "0bdfe294-442b-478b-8ed6-4f1f6f91f702",
   "metadata": {
    "vscode": {
     "languageId": "polyglot-notebook"
    }
   },
   "outputs": [
    {
     "name": "stderr",
     "output_type": "stream",
     "text": [
      "(console):12:3 expected (If | While | Try | DoWhile | For | Throw | Return | ImplicitLambda | SmallerExprOrLambda)\n",
      "  def credit(a: Account, amount: Amount): Try[Account] = //..\n",
      "  ^"
     ]
    },
    {
     "ename": "",
     "evalue": "",
     "output_type": "error",
     "traceback": [
      "(console):12:3 expected (If | While | Try | DoWhile | For | Throw | Return | ImplicitLambda | SmallerExprOrLambda)\n  def credit(a: Account, amount: Amount): Try[Account] = //..\n  ^"
     ]
    }
   ],
   "source": [
    "trait Account {\n",
    "  def no: String\n",
    "  def name: String\n",
    "  def bank: Bank\n",
    "  def address: Address\n",
    "  def dateOfOpening: Date\n",
    "  def dateOfClose: Option[Date]\n",
    "}\n",
    "\n",
    "trait AccountService {\n",
    "  def debit(a: Account, amount: Amount): Try[Account] = //..\n",
    "  def credit(a: Account, amount: Amount): Try[Account] = //..\n",
    "  def transfer(from: Account, to: Account, amount: Amount) = for {\n",
    "    d <- debit(from, amount)\n",
    "    c <- credit(to, amount)\n",
    "  } yield (d, c)\n",
    "}"
   ]
  },
  {
   "cell_type": "code",
   "execution_count": null,
   "id": "0fa994ef-4d33-432e-8c1c-3005daf0b2e1",
   "metadata": {
    "vscode": {
     "languageId": "polyglot-notebook"
    }
   },
   "outputs": [],
   "source": []
  },
  {
   "cell_type": "code",
   "execution_count": null,
   "id": "f32fe1e4-326e-4d9a-a701-2f177eaa8218",
   "metadata": {
    "vscode": {
     "languageId": "polyglot-notebook"
    }
   },
   "outputs": [],
   "source": []
  }
 ],
 "metadata": {
  "kernelspec": {
   "display_name": "Scala",
   "language": "scala",
   "name": "scala"
  },
  "language_info": {
   "codemirror_mode": "text/x-scala",
   "file_extension": ".scala",
   "mimetype": "text/x-scala",
   "name": "scala",
   "nbconvert_exporter": "script",
   "version": "2.12.8"
  },
  "polyglot_notebook": {
   "kernelInfo": {
    "defaultKernelName": "csharp",
    "items": [
     {
      "aliases": [],
      "name": "csharp"
     }
    ]
   }
  }
 },
 "nbformat": 4,
 "nbformat_minor": 5
}
