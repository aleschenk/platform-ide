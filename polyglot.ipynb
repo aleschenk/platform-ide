{
 "cells": [
  {
   "cell_type": "code",
   "execution_count": 1,
   "metadata": {
    "dotnet_interactive": {
     "language": "csharp"
    },
    "polyglot_notebook": {
     "kernelName": "csharp"
    }
   },
   "outputs": [
    {
     "name": "stdout",
     "output_type": "stream",
     "text": [
      "aa\n"
     ]
    }
   ],
   "source": [
    "Console.WriteLine(\"aa\");"
   ]
  },
  {
   "cell_type": "code",
   "execution_count": 3,
   "metadata": {
    "dotnet_interactive": {
     "language": "fsharp"
    },
    "polyglot_notebook": {
     "kernelName": "fsharp"
    }
   },
   "outputs": [
    {
     "name": "stdout",
     "output_type": "stream",
     "text": [
      "Hello there, Ana!\n",
      "Hello there, Felipe!\n",
      "Hello there, Emillia!\n"
     ]
    }
   ],
   "source": [
    "// 'name' is inferred to be a string based on usage.\n",
    "let printMessage name =\n",
    "    printfn $\"Hello there, {name}!\"\n",
    "\n",
    "// 'names' is inferred to be a sequence of strings.\n",
    "let printNames names =\n",
    "    for name in names do\n",
    "        printMessage name\n",
    "\n",
    "let names = [ \"Ana\"; \"Felipe\"; \"Emillia\" ]\n",
    "printNames names"
   ]
  },
  {
   "cell_type": "code",
   "execution_count": 4,
   "metadata": {
    "dotnet_interactive": {
     "language": "mermaid"
    },
    "polyglot_notebook": {
     "kernelName": "mermaid"
    }
   },
   "outputs": [
    {
     "data": {
      "text/html": [
       "<div class=\"mermaidMarkdownContainer\" style=\"background-color:white\">\n",
       "<link rel=\"stylesheet\" href=\"https://cdnjs.cloudflare.com/ajax/libs/font-awesome/6.2.0/css/all.min.css\">\n",
       "<div id=\"06174786ac4f458a8ac8ef59c8216bc7\"></div>\n",
       "<script type=\"module\">\n",
       "\r\n",
       "            import mermaid from 'https://cdn.jsdelivr.net/npm/mermaid@10.6.1/dist/mermaid.esm.min.mjs';\r\n",
       "            let renderTarget = document.getElementById('06174786ac4f458a8ac8ef59c8216bc7');\r\n",
       "            try {\r\n",
       "                const {svg, bindFunctions} = await mermaid.mermaidAPI.render( \r\n",
       "                    'mermaid_06174786ac4f458a8ac8ef59c8216bc7', \r\n",
       "                    `journey\n",
       "    title My working dayd\n",
       "    section Go to work\n",
       "      Make tea: 5: Me\n",
       "      Go upstairs: 3: Me\n",
       "      Do work: 1: Me, Cat\n",
       "    section Go home\n",
       "      Go downstairs: 5: Me\n",
       "      Sit down: 5: Me`);\r\n",
       "                renderTarget.innerHTML = svg;\r\n",
       "                bindFunctions?.(renderTarget);\r\n",
       "            }\r\n",
       "            catch (error) {\r\n",
       "                console.log(error);\r\n",
       "            }\n",
       "</script>\n",
       "</div>\n"
      ]
     },
     "metadata": {},
     "output_type": "display_data"
    }
   ],
   "source": [
    "journey\n",
    "    title My working day\n",
    "    section Go to work\n",
    "      Make tea: 5: Me\n",
    "      Go upstairs: 3: Me\n",
    "      Do work: 1: Me, Cat\n",
    "    section Go home\n",
    "      Go downstairs: 5: Me\n",
    "      Sit down: 5: Me"
   ]
  },
  {
   "cell_type": "code",
   "execution_count": null,
   "metadata": {
    "dotnet_interactive": {
     "language": "mermaid"
    },
    "polyglot_notebook": {
     "kernelName": "mermaid"
    }
   },
   "outputs": [],
   "source": []
  }
 ],
 "metadata": {
  "kernelspec": {
   "display_name": ".NET (F#)",
   "language": "F#",
   "name": ".net-fsharp"
  },
  "language_info": {
   "name": "polyglot-notebook"
  },
  "polyglot_notebook": {
   "kernelInfo": {
    "defaultKernelName": "fsharp",
    "items": [
     {
      "aliases": [],
      "languageName": "fsharp",
      "name": "fsharp"
     }
    ]
   }
  }
 },
 "nbformat": 4,
 "nbformat_minor": 2
}
