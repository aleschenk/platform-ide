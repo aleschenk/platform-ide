{
 "cells": [
  {
   "cell_type": "code",
   "execution_count": 2,
   "id": "48af308a-86c5-405c-9811-e6a7a3497b23",
   "metadata": {},
   "outputs": [
    {
     "ename": "Error",
     "evalue": "Subprocess terminated with status: signal: 9 (SIGKILL)",
     "output_type": "error",
     "traceback": [
      "Subprocess terminated with status: signal: 9 (SIGKILL)"
     ]
    }
   ],
   "source": [
    "use std::io::{stdin,stdout,Write};"
   ]
  },
  {
   "cell_type": "code",
   "execution_count": 3,
   "id": "0e5229ae-ac58-402e-95c7-4744b545113d",
   "metadata": {},
   "outputs": [],
   "source": [
    "let mut s=String::new();"
   ]
  },
  {
   "cell_type": "code",
   "execution_count": 5,
   "id": "aa470035-6b81-4154-90d3-f1bd3fc67b40",
   "metadata": {},
   "outputs": [],
   "source": [
    "print!(\"Please enter some text: \");"
   ]
  },
  {
   "cell_type": "code",
   "execution_count": null,
   "id": "ecef3f90-e3c2-4a02-b9d8-08143ac0e689",
   "metadata": {},
   "outputs": [],
   "source": []
  }
 ],
 "metadata": {
  "kernelspec": {
   "display_name": "Rust",
   "language": "rust",
   "name": "rust"
  },
  "language_info": {
   "codemirror_mode": "rust",
   "file_extension": ".rs",
   "mimetype": "text/rust",
   "name": "Rust",
   "pygment_lexer": "rust",
   "version": ""
  }
 },
 "nbformat": 4,
 "nbformat_minor": 5
}
